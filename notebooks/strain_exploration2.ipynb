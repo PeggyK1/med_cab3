{
 "cells": [
  {
   "cell_type": "code",
   "execution_count": 2,
   "metadata": {},
   "outputs": [],
   "source": [
    "import os\n",
    "import pandas as pd\n",
    "import numpy as np\n",
    "\n",
    "REPO_FILEPATH = os.getenv(\"REPO_FILEPATH\")"
   ]
  },
  {
   "cell_type": "code",
   "execution_count": 3,
   "metadata": {},
   "outputs": [],
   "source": [
    "strain = pd.read_csv(REPO_FILEPATH + '/data/Cannabis_Strain_NA.csv')"
   ]
  },
  {
   "cell_type": "code",
   "execution_count": 4,
   "metadata": {
    "tags": []
   },
   "outputs": [
    {
     "output_type": "stream",
     "name": "stdout",
     "text": "(9483, 43)\nIndex(['id', 'name', 'type', 'effects', 'ailment', 'flavor', 'location', 'thc',\n       'cbd', 'Citrus', 'Sweet', 'Earthy', 'Pine', 'Skunk', 'Berry', 'Lemon',\n       'Lime', 'Blueberry', 'Strawberry', 'Mango', 'Rose', 'Pepper',\n       'Depression', 'Pain', 'Insomnia', 'Stress', 'Lack of Appetite',\n       'Muscle Spasms', 'Nausea', 'Inflammation', 'Relaxed', 'Happy',\n       'Euphoric', 'Uplifted', 'Sleepy', 'Dry Mouth', 'Focused', 'Energetic',\n       'Paranoid', 'Anxious', 'Hungry', 'Talkative', 'Creative'],\n      dtype='object')\n"
    },
    {
     "output_type": "execute_result",
     "data": {
      "text/plain": "   id    name    type  effects     ailment  flavor location  thc  cbd Citrus  \\\n0   1  100 OG  Hybrid  Focused  Depression  Citrus      NaN  127   16   True   \n\n   ... Uplifted Sleepy Dry Mouth Focused Energetic Paranoid Anxious Hungry  \\\n0  ...    False  False     False    True     False    False   False  False   \n\n  Talkative Creative  \n0     False    False  \n\n[1 rows x 43 columns]",
      "text/html": "<div>\n<style scoped>\n    .dataframe tbody tr th:only-of-type {\n        vertical-align: middle;\n    }\n\n    .dataframe tbody tr th {\n        vertical-align: top;\n    }\n\n    .dataframe thead th {\n        text-align: right;\n    }\n</style>\n<table border=\"1\" class=\"dataframe\">\n  <thead>\n    <tr style=\"text-align: right;\">\n      <th></th>\n      <th>id</th>\n      <th>name</th>\n      <th>type</th>\n      <th>effects</th>\n      <th>ailment</th>\n      <th>flavor</th>\n      <th>location</th>\n      <th>thc</th>\n      <th>cbd</th>\n      <th>Citrus</th>\n      <th>...</th>\n      <th>Uplifted</th>\n      <th>Sleepy</th>\n      <th>Dry Mouth</th>\n      <th>Focused</th>\n      <th>Energetic</th>\n      <th>Paranoid</th>\n      <th>Anxious</th>\n      <th>Hungry</th>\n      <th>Talkative</th>\n      <th>Creative</th>\n    </tr>\n  </thead>\n  <tbody>\n    <tr>\n      <th>0</th>\n      <td>1</td>\n      <td>100 OG</td>\n      <td>Hybrid</td>\n      <td>Focused</td>\n      <td>Depression</td>\n      <td>Citrus</td>\n      <td>NaN</td>\n      <td>127</td>\n      <td>16</td>\n      <td>True</td>\n      <td>...</td>\n      <td>False</td>\n      <td>False</td>\n      <td>False</td>\n      <td>True</td>\n      <td>False</td>\n      <td>False</td>\n      <td>False</td>\n      <td>False</td>\n      <td>False</td>\n      <td>False</td>\n    </tr>\n  </tbody>\n</table>\n<p>1 rows × 43 columns</p>\n</div>"
     },
     "metadata": {},
     "execution_count": 4
    }
   ],
   "source": [
    "print(strain.shape)\n",
    "print(strain.columns)\n",
    "strain.head(1)"
   ]
  },
  {
   "cell_type": "code",
   "execution_count": 5,
   "metadata": {},
   "outputs": [
    {
     "output_type": "execute_result",
     "data": {
      "text/plain": "Index(['Citrus', 'Sweet', 'Earthy', 'Pine', 'Skunk', 'Berry', 'Lemon', 'Lime',\n       'Blueberry', 'Strawberry', 'Mango', 'Rose', 'Pepper', 'Depression',\n       'Pain', 'Insomnia', 'Stress', 'Lack of Appetite', 'Muscle Spasms',\n       'Nausea', 'Inflammation', 'Relaxed', 'Happy', 'Euphoric', 'Uplifted',\n       'Sleepy', 'Dry Mouth', 'Focused', 'Energetic', 'Paranoid', 'Anxious',\n       'Hungry', 'Talkative', 'Creative'],\n      dtype='object')"
     },
     "metadata": {},
     "execution_count": 5
    }
   ],
   "source": [
    "strain.columns[9:]"
   ]
  },
  {
   "cell_type": "code",
   "execution_count": 6,
   "metadata": {},
   "outputs": [
    {
     "output_type": "execute_result",
     "data": {
      "text/plain": "   id               name    type  \\\n0   1             100 OG  Hybrid   \n1   2       707 Headband  Hybrid   \n2   5  Afghani Bullrider  Hybrid   \n3   7      Afghan Diesel  Hybrid   \n4   8        Afghan Kush  Hybrid   \n\n                                             effects  \\\n0                                            Focused   \n1                                            Unknown   \n2  Uplifted, Relaxed, Happy, Euphoric, Dry Mouth,...   \n3                                            Unknown   \n4                                            Unknown   \n\n                              ailment               flavor          location  \\\n0                          Depression               Citrus           Unknown   \n1                             Unknown              Unknown           Unknown   \n2  Stress, Depression, Insomnia, Pain  Sweet, Pine, Earthy           Unknown   \n3                             Unknown              Unknown           Unknown   \n4                             Unknown              Unknown  Yucca Valley, CA   \n\n    thc  cbd  Citrus  ...  Uplifted  Sleepy  Dry Mouth  Focused  Energetic  \\\n0   127   16       1  ...         0       0          0        1          0   \n1   127    0       2  ...         2       2          2        2          2   \n2   127    0       0  ...         1       0          1        0          0   \n3     0    0       2  ...         2       2          2        2          2   \n4  1300    0       2  ...         2       2          2        2          2   \n\n   Paranoid  Anxious  Hungry  Talkative  Creative  \n0         0        0       0          0         0  \n1         2        2       2          2         2  \n2         1        0       0          0         0  \n3         2        2       2          2         2  \n4         2        2       2          2         2  \n\n[5 rows x 43 columns]",
      "text/html": "<div>\n<style scoped>\n    .dataframe tbody tr th:only-of-type {\n        vertical-align: middle;\n    }\n\n    .dataframe tbody tr th {\n        vertical-align: top;\n    }\n\n    .dataframe thead th {\n        text-align: right;\n    }\n</style>\n<table border=\"1\" class=\"dataframe\">\n  <thead>\n    <tr style=\"text-align: right;\">\n      <th></th>\n      <th>id</th>\n      <th>name</th>\n      <th>type</th>\n      <th>effects</th>\n      <th>ailment</th>\n      <th>flavor</th>\n      <th>location</th>\n      <th>thc</th>\n      <th>cbd</th>\n      <th>Citrus</th>\n      <th>...</th>\n      <th>Uplifted</th>\n      <th>Sleepy</th>\n      <th>Dry Mouth</th>\n      <th>Focused</th>\n      <th>Energetic</th>\n      <th>Paranoid</th>\n      <th>Anxious</th>\n      <th>Hungry</th>\n      <th>Talkative</th>\n      <th>Creative</th>\n    </tr>\n  </thead>\n  <tbody>\n    <tr>\n      <th>0</th>\n      <td>1</td>\n      <td>100 OG</td>\n      <td>Hybrid</td>\n      <td>Focused</td>\n      <td>Depression</td>\n      <td>Citrus</td>\n      <td>Unknown</td>\n      <td>127</td>\n      <td>16</td>\n      <td>1</td>\n      <td>...</td>\n      <td>0</td>\n      <td>0</td>\n      <td>0</td>\n      <td>1</td>\n      <td>0</td>\n      <td>0</td>\n      <td>0</td>\n      <td>0</td>\n      <td>0</td>\n      <td>0</td>\n    </tr>\n    <tr>\n      <th>1</th>\n      <td>2</td>\n      <td>707 Headband</td>\n      <td>Hybrid</td>\n      <td>Unknown</td>\n      <td>Unknown</td>\n      <td>Unknown</td>\n      <td>Unknown</td>\n      <td>127</td>\n      <td>0</td>\n      <td>2</td>\n      <td>...</td>\n      <td>2</td>\n      <td>2</td>\n      <td>2</td>\n      <td>2</td>\n      <td>2</td>\n      <td>2</td>\n      <td>2</td>\n      <td>2</td>\n      <td>2</td>\n      <td>2</td>\n    </tr>\n    <tr>\n      <th>2</th>\n      <td>5</td>\n      <td>Afghani Bullrider</td>\n      <td>Hybrid</td>\n      <td>Uplifted, Relaxed, Happy, Euphoric, Dry Mouth,...</td>\n      <td>Stress, Depression, Insomnia, Pain</td>\n      <td>Sweet, Pine, Earthy</td>\n      <td>Unknown</td>\n      <td>127</td>\n      <td>0</td>\n      <td>0</td>\n      <td>...</td>\n      <td>1</td>\n      <td>0</td>\n      <td>1</td>\n      <td>0</td>\n      <td>0</td>\n      <td>1</td>\n      <td>0</td>\n      <td>0</td>\n      <td>0</td>\n      <td>0</td>\n    </tr>\n    <tr>\n      <th>3</th>\n      <td>7</td>\n      <td>Afghan Diesel</td>\n      <td>Hybrid</td>\n      <td>Unknown</td>\n      <td>Unknown</td>\n      <td>Unknown</td>\n      <td>Unknown</td>\n      <td>0</td>\n      <td>0</td>\n      <td>2</td>\n      <td>...</td>\n      <td>2</td>\n      <td>2</td>\n      <td>2</td>\n      <td>2</td>\n      <td>2</td>\n      <td>2</td>\n      <td>2</td>\n      <td>2</td>\n      <td>2</td>\n      <td>2</td>\n    </tr>\n    <tr>\n      <th>4</th>\n      <td>8</td>\n      <td>Afghan Kush</td>\n      <td>Hybrid</td>\n      <td>Unknown</td>\n      <td>Unknown</td>\n      <td>Unknown</td>\n      <td>Yucca Valley, CA</td>\n      <td>1300</td>\n      <td>0</td>\n      <td>2</td>\n      <td>...</td>\n      <td>2</td>\n      <td>2</td>\n      <td>2</td>\n      <td>2</td>\n      <td>2</td>\n      <td>2</td>\n      <td>2</td>\n      <td>2</td>\n      <td>2</td>\n      <td>2</td>\n    </tr>\n  </tbody>\n</table>\n<p>5 rows × 43 columns</p>\n</div>"
     },
     "metadata": {},
     "execution_count": 6
    }
   ],
   "source": [
    "def update_na(series):\n",
    "    return series.fillna('Unknown')\n",
    "\n",
    "def bool_to_tri(series):\n",
    "    return series.replace({False: 0, True: 1, np.NaN: 2})\n",
    "\n",
    "strain_update_loc = strain.copy()\n",
    "strain[strain.columns[0:7]] = strain[strain.columns[0:7]].apply(update_na)\n",
    "strain[strain.columns[9:]] = strain[strain.columns[9:]].apply(bool_to_tri)\n",
    "strain.head()"
   ]
  },
  {
   "cell_type": "code",
   "execution_count": 7,
   "metadata": {},
   "outputs": [],
   "source": [
    "final = strain[\n",
    "            (strain['Citrus'] != 2) &\n",
    "            (strain['Sweet'] != 2) &\n",
    "            (strain['Earthy'] != 2) &\n",
    "            (strain['Pine'] != 2) &\n",
    "            (strain['Skunk' ] != 2) &\n",
    "            (strain['Berry'] != 2) &\n",
    "            (strain['Lemon'] != 2) &\n",
    "            (strain['Lime'] != 2) &\n",
    "            (strain['Blueberry'] != 2) &\n",
    "            (strain['Strawberry'] != 2) &\n",
    "            (strain['Mango'] != 2) &\n",
    "            (strain['Rose'] != 2) &\n",
    "            (strain['Pepper'] != 2) &\n",
    "            (strain['Depression'] != 2) &\n",
    "            (strain['Pain'] != 2) &\n",
    "            (strain['Insomnia'] != 2) &\n",
    "            (strain['Stress'] != 2) &\n",
    "            (strain['Lack of Appetite'] != 2) &\n",
    "            (strain['Muscle Spasms'] != 2) &\n",
    "            (strain['Nausea'] != 2) &\n",
    "            (strain['Inflammation'] != 2) &\n",
    "            (strain['Relaxed'] != 2) &\n",
    "            (strain['Happy'] != 2) &\n",
    "            (strain['Euphoric'] != 2) &\n",
    "            (strain['Uplifted'] != 2) &\n",
    "            (strain['Sleepy'] != 2) &\n",
    "            (strain['Dry Mouth'] != 2) &\n",
    "            (strain['Focused'] != 2) &\n",
    "            (strain['Energetic'] != 2) &\n",
    "            (strain['Paranoid'] != 2) &\n",
    "            (strain['Anxious'] != 2) &\n",
    "            (strain['Hungry'] != 2) &\n",
    "            (strain['Talkative'] != 2) &\n",
    "            (strain['Creative'] != 2)\n",
    "]"
   ]
  },
  {
   "cell_type": "code",
   "execution_count": 8,
   "metadata": {},
   "outputs": [
    {
     "output_type": "execute_result",
     "data": {
      "text/plain": "id                  0\nname                0\ntype                0\neffects             0\nailment             0\nflavor              0\nlocation            0\nthc                 0\ncbd                 0\nCitrus              0\nSweet               0\nEarthy              0\nPine                0\nSkunk               0\nBerry               0\nLemon               0\nLime                0\nBlueberry           0\nStrawberry          0\nMango               0\nRose                0\nPepper              0\nDepression          0\nPain                0\nInsomnia            0\nStress              0\nLack of Appetite    0\nMuscle Spasms       0\nNausea              0\nInflammation        0\nRelaxed             0\nHappy               0\nEuphoric            0\nUplifted            0\nSleepy              0\nDry Mouth           0\nFocused             0\nEnergetic           0\nParanoid            0\nAnxious             0\nHungry              0\nTalkative           0\nCreative            0\ndtype: int64"
     },
     "metadata": {},
     "execution_count": 8
    }
   ],
   "source": [
    "final.isna().sum()"
   ]
  },
  {
   "cell_type": "code",
   "execution_count": 9,
   "metadata": {},
   "outputs": [],
   "source": [
    "final = final.reset_index(drop=True)"
   ]
  },
  {
   "cell_type": "code",
   "execution_count": 9,
   "metadata": {},
   "outputs": [],
   "source": [
    "# final.to_csv('final_strains.csv')"
   ]
  },
  {
   "cell_type": "code",
   "execution_count": 10,
   "metadata": {},
   "outputs": [],
   "source": [
    "# records = final.to_json('strain_data.json')"
   ]
  },
  {
   "cell_type": "code",
   "execution_count": 11,
   "metadata": {},
   "outputs": [],
   "source": [
    "# import json\n",
    "\n",
    "# parsed = json.loads(records)"
   ]
  },
  {
   "cell_type": "code",
   "execution_count": 12,
   "metadata": {},
   "outputs": [],
   "source": [
    "# new_records = json.dumps(parsed)"
   ]
  },
  {
   "cell_type": "code",
   "execution_count": 13,
   "metadata": {},
   "outputs": [],
   "source": [
    "# data = final.to_dict()"
   ]
  },
  {
   "cell_type": "code",
   "execution_count": 14,
   "metadata": {},
   "outputs": [],
   "source": [
    "# type(data)"
   ]
  },
  {
   "cell_type": "code",
   "execution_count": 10,
   "metadata": {},
   "outputs": [
    {
     "output_type": "execute_result",
     "data": {
      "text/plain": "   id               name    type  \\\n0   1             100 OG  Hybrid   \n1   5  Afghani Bullrider  Hybrid   \n2  20              Aloha  Hybrid   \n3  24       Amnesia Haze  Hybrid   \n4  35     BC Sweet Tooth  Hybrid   \n\n                                             effects  \\\n0                                            Focused   \n1  Uplifted, Relaxed, Happy, Euphoric, Dry Mouth,...   \n2  Energetic, Uplifted, Happy, Creative, Focused,...   \n3  Happy, Uplifted, Euphoric, Energetic, Creative...   \n4  Uplifted, Happy, Relaxed, Sleepy, Euphoric, Dr...   \n\n                                      ailment                 flavor location  \\\n0                                  Depression                 Citrus  Unknown   \n1          Stress, Depression, Insomnia, Pain    Sweet, Pine, Earthy  Unknown   \n2                    Depression, Stress, Pain          Sweet, Citrus  Unknown   \n3                    Stress, Depression, Pain  Citrus, Lemon, Earthy  Unknown   \n4  Stress, Insomnia, Depression, Nausea, Pain           Sweet, Honey  Unknown   \n\n   thc  cbd  Citrus  ...  Uplifted  Sleepy  Dry Mouth  Focused  Energetic  \\\n0  127   16       1  ...         0       0          0        1          0   \n1  127    0       0  ...         1       0          1        0          0   \n2    0    0       1  ...         1       0          1        1          1   \n3    0    0       1  ...         1       0          1        0          1   \n4    0    0       0  ...         1       1          1        0          0   \n\n   Paranoid  Anxious  Hungry  Talkative  Creative  \n0         0        0       0          0         0  \n1         1        0       0          0         0  \n2         0        1       0          0         1  \n3         1        1       0          0         1  \n4         1        0       0          0         0  \n\n[5 rows x 43 columns]",
      "text/html": "<div>\n<style scoped>\n    .dataframe tbody tr th:only-of-type {\n        vertical-align: middle;\n    }\n\n    .dataframe tbody tr th {\n        vertical-align: top;\n    }\n\n    .dataframe thead th {\n        text-align: right;\n    }\n</style>\n<table border=\"1\" class=\"dataframe\">\n  <thead>\n    <tr style=\"text-align: right;\">\n      <th></th>\n      <th>id</th>\n      <th>name</th>\n      <th>type</th>\n      <th>effects</th>\n      <th>ailment</th>\n      <th>flavor</th>\n      <th>location</th>\n      <th>thc</th>\n      <th>cbd</th>\n      <th>Citrus</th>\n      <th>...</th>\n      <th>Uplifted</th>\n      <th>Sleepy</th>\n      <th>Dry Mouth</th>\n      <th>Focused</th>\n      <th>Energetic</th>\n      <th>Paranoid</th>\n      <th>Anxious</th>\n      <th>Hungry</th>\n      <th>Talkative</th>\n      <th>Creative</th>\n    </tr>\n  </thead>\n  <tbody>\n    <tr>\n      <th>0</th>\n      <td>1</td>\n      <td>100 OG</td>\n      <td>Hybrid</td>\n      <td>Focused</td>\n      <td>Depression</td>\n      <td>Citrus</td>\n      <td>Unknown</td>\n      <td>127</td>\n      <td>16</td>\n      <td>1</td>\n      <td>...</td>\n      <td>0</td>\n      <td>0</td>\n      <td>0</td>\n      <td>1</td>\n      <td>0</td>\n      <td>0</td>\n      <td>0</td>\n      <td>0</td>\n      <td>0</td>\n      <td>0</td>\n    </tr>\n    <tr>\n      <th>1</th>\n      <td>5</td>\n      <td>Afghani Bullrider</td>\n      <td>Hybrid</td>\n      <td>Uplifted, Relaxed, Happy, Euphoric, Dry Mouth,...</td>\n      <td>Stress, Depression, Insomnia, Pain</td>\n      <td>Sweet, Pine, Earthy</td>\n      <td>Unknown</td>\n      <td>127</td>\n      <td>0</td>\n      <td>0</td>\n      <td>...</td>\n      <td>1</td>\n      <td>0</td>\n      <td>1</td>\n      <td>0</td>\n      <td>0</td>\n      <td>1</td>\n      <td>0</td>\n      <td>0</td>\n      <td>0</td>\n      <td>0</td>\n    </tr>\n    <tr>\n      <th>2</th>\n      <td>20</td>\n      <td>Aloha</td>\n      <td>Hybrid</td>\n      <td>Energetic, Uplifted, Happy, Creative, Focused,...</td>\n      <td>Depression, Stress, Pain</td>\n      <td>Sweet, Citrus</td>\n      <td>Unknown</td>\n      <td>0</td>\n      <td>0</td>\n      <td>1</td>\n      <td>...</td>\n      <td>1</td>\n      <td>0</td>\n      <td>1</td>\n      <td>1</td>\n      <td>1</td>\n      <td>0</td>\n      <td>1</td>\n      <td>0</td>\n      <td>0</td>\n      <td>1</td>\n    </tr>\n    <tr>\n      <th>3</th>\n      <td>24</td>\n      <td>Amnesia Haze</td>\n      <td>Hybrid</td>\n      <td>Happy, Uplifted, Euphoric, Energetic, Creative...</td>\n      <td>Stress, Depression, Pain</td>\n      <td>Citrus, Lemon, Earthy</td>\n      <td>Unknown</td>\n      <td>0</td>\n      <td>0</td>\n      <td>1</td>\n      <td>...</td>\n      <td>1</td>\n      <td>0</td>\n      <td>1</td>\n      <td>0</td>\n      <td>1</td>\n      <td>1</td>\n      <td>1</td>\n      <td>0</td>\n      <td>0</td>\n      <td>1</td>\n    </tr>\n    <tr>\n      <th>4</th>\n      <td>35</td>\n      <td>BC Sweet Tooth</td>\n      <td>Hybrid</td>\n      <td>Uplifted, Happy, Relaxed, Sleepy, Euphoric, Dr...</td>\n      <td>Stress, Insomnia, Depression, Nausea, Pain</td>\n      <td>Sweet, Honey</td>\n      <td>Unknown</td>\n      <td>0</td>\n      <td>0</td>\n      <td>0</td>\n      <td>...</td>\n      <td>1</td>\n      <td>1</td>\n      <td>1</td>\n      <td>0</td>\n      <td>0</td>\n      <td>1</td>\n      <td>0</td>\n      <td>0</td>\n      <td>0</td>\n      <td>0</td>\n    </tr>\n  </tbody>\n</table>\n<p>5 rows × 43 columns</p>\n</div>"
     },
     "metadata": {},
     "execution_count": 10
    }
   ],
   "source": [
    "final.head()"
   ]
  },
  {
   "cell_type": "code",
   "execution_count": 11,
   "metadata": {},
   "outputs": [
    {
     "output_type": "execute_result",
     "data": {
      "text/plain": "['Uplifted', 'Relaxed', 'Happy', 'Euphoric', 'Dry Mouth', 'Paranoid']"
     },
     "metadata": {},
     "execution_count": 11
    }
   ],
   "source": [
    "final['effects'][1].split(', ')"
   ]
  },
  {
   "cell_type": "code",
   "execution_count": 12,
   "metadata": {},
   "outputs": [
    {
     "output_type": "execute_result",
     "data": {
      "text/plain": "Index(['effects', 'ailment', 'flavor'], dtype='object')"
     },
     "metadata": {},
     "execution_count": 12
    }
   ],
   "source": [
    "final.columns[3:6]"
   ]
  },
  {
   "cell_type": "code",
   "execution_count": 13,
   "metadata": {},
   "outputs": [
    {
     "output_type": "execute_result",
     "data": {
      "text/plain": "   id               name    type  \\\n0   1             100 OG  Hybrid   \n1   5  Afghani Bullrider  Hybrid   \n2  20              Aloha  Hybrid   \n3  24       Amnesia Haze  Hybrid   \n4  35     BC Sweet Tooth  Hybrid   \n\n                                             effects  \\\n0                                          [Focused]   \n1  [Uplifted, Relaxed, Happy, Euphoric, Dry Mouth...   \n2  [Energetic, Uplifted, Happy, Creative, Focused...   \n3  [Happy, Uplifted, Euphoric, Energetic, Creativ...   \n4  [Uplifted, Happy, Relaxed, Sleepy, Euphoric, D...   \n\n                                        ailment                   flavor  \\\n0                                  [Depression]                 [Citrus]   \n1          [Stress, Depression, Insomnia, Pain]    [Sweet, Pine, Earthy]   \n2                    [Depression, Stress, Pain]          [Sweet, Citrus]   \n3                    [Stress, Depression, Pain]  [Citrus, Lemon, Earthy]   \n4  [Stress, Insomnia, Depression, Nausea, Pain]           [Sweet, Honey]   \n\n  location  thc  cbd  Citrus  ...  Uplifted  Sleepy  Dry Mouth  Focused  \\\n0  Unknown  127   16       1  ...         0       0          0        1   \n1  Unknown  127    0       0  ...         1       0          1        0   \n2  Unknown    0    0       1  ...         1       0          1        1   \n3  Unknown    0    0       1  ...         1       0          1        0   \n4  Unknown    0    0       0  ...         1       1          1        0   \n\n   Energetic  Paranoid  Anxious  Hungry  Talkative  Creative  \n0          0         0        0       0          0         0  \n1          0         1        0       0          0         0  \n2          1         0        1       0          0         1  \n3          1         1        1       0          0         1  \n4          0         1        0       0          0         0  \n\n[5 rows x 43 columns]",
      "text/html": "<div>\n<style scoped>\n    .dataframe tbody tr th:only-of-type {\n        vertical-align: middle;\n    }\n\n    .dataframe tbody tr th {\n        vertical-align: top;\n    }\n\n    .dataframe thead th {\n        text-align: right;\n    }\n</style>\n<table border=\"1\" class=\"dataframe\">\n  <thead>\n    <tr style=\"text-align: right;\">\n      <th></th>\n      <th>id</th>\n      <th>name</th>\n      <th>type</th>\n      <th>effects</th>\n      <th>ailment</th>\n      <th>flavor</th>\n      <th>location</th>\n      <th>thc</th>\n      <th>cbd</th>\n      <th>Citrus</th>\n      <th>...</th>\n      <th>Uplifted</th>\n      <th>Sleepy</th>\n      <th>Dry Mouth</th>\n      <th>Focused</th>\n      <th>Energetic</th>\n      <th>Paranoid</th>\n      <th>Anxious</th>\n      <th>Hungry</th>\n      <th>Talkative</th>\n      <th>Creative</th>\n    </tr>\n  </thead>\n  <tbody>\n    <tr>\n      <th>0</th>\n      <td>1</td>\n      <td>100 OG</td>\n      <td>Hybrid</td>\n      <td>[Focused]</td>\n      <td>[Depression]</td>\n      <td>[Citrus]</td>\n      <td>Unknown</td>\n      <td>127</td>\n      <td>16</td>\n      <td>1</td>\n      <td>...</td>\n      <td>0</td>\n      <td>0</td>\n      <td>0</td>\n      <td>1</td>\n      <td>0</td>\n      <td>0</td>\n      <td>0</td>\n      <td>0</td>\n      <td>0</td>\n      <td>0</td>\n    </tr>\n    <tr>\n      <th>1</th>\n      <td>5</td>\n      <td>Afghani Bullrider</td>\n      <td>Hybrid</td>\n      <td>[Uplifted, Relaxed, Happy, Euphoric, Dry Mouth...</td>\n      <td>[Stress, Depression, Insomnia, Pain]</td>\n      <td>[Sweet, Pine, Earthy]</td>\n      <td>Unknown</td>\n      <td>127</td>\n      <td>0</td>\n      <td>0</td>\n      <td>...</td>\n      <td>1</td>\n      <td>0</td>\n      <td>1</td>\n      <td>0</td>\n      <td>0</td>\n      <td>1</td>\n      <td>0</td>\n      <td>0</td>\n      <td>0</td>\n      <td>0</td>\n    </tr>\n    <tr>\n      <th>2</th>\n      <td>20</td>\n      <td>Aloha</td>\n      <td>Hybrid</td>\n      <td>[Energetic, Uplifted, Happy, Creative, Focused...</td>\n      <td>[Depression, Stress, Pain]</td>\n      <td>[Sweet, Citrus]</td>\n      <td>Unknown</td>\n      <td>0</td>\n      <td>0</td>\n      <td>1</td>\n      <td>...</td>\n      <td>1</td>\n      <td>0</td>\n      <td>1</td>\n      <td>1</td>\n      <td>1</td>\n      <td>0</td>\n      <td>1</td>\n      <td>0</td>\n      <td>0</td>\n      <td>1</td>\n    </tr>\n    <tr>\n      <th>3</th>\n      <td>24</td>\n      <td>Amnesia Haze</td>\n      <td>Hybrid</td>\n      <td>[Happy, Uplifted, Euphoric, Energetic, Creativ...</td>\n      <td>[Stress, Depression, Pain]</td>\n      <td>[Citrus, Lemon, Earthy]</td>\n      <td>Unknown</td>\n      <td>0</td>\n      <td>0</td>\n      <td>1</td>\n      <td>...</td>\n      <td>1</td>\n      <td>0</td>\n      <td>1</td>\n      <td>0</td>\n      <td>1</td>\n      <td>1</td>\n      <td>1</td>\n      <td>0</td>\n      <td>0</td>\n      <td>1</td>\n    </tr>\n    <tr>\n      <th>4</th>\n      <td>35</td>\n      <td>BC Sweet Tooth</td>\n      <td>Hybrid</td>\n      <td>[Uplifted, Happy, Relaxed, Sleepy, Euphoric, D...</td>\n      <td>[Stress, Insomnia, Depression, Nausea, Pain]</td>\n      <td>[Sweet, Honey]</td>\n      <td>Unknown</td>\n      <td>0</td>\n      <td>0</td>\n      <td>0</td>\n      <td>...</td>\n      <td>1</td>\n      <td>1</td>\n      <td>1</td>\n      <td>0</td>\n      <td>0</td>\n      <td>1</td>\n      <td>0</td>\n      <td>0</td>\n      <td>0</td>\n      <td>0</td>\n    </tr>\n  </tbody>\n</table>\n<p>5 rows × 43 columns</p>\n</div>"
     },
     "metadata": {},
     "execution_count": 13
    }
   ],
   "source": [
    "def tokenize(series):\n",
    "    return series.str.split(', ')\n",
    "\n",
    "final[final.columns[3:6]] = final[final.columns[3:6]].apply(tokenize)\n",
    "final.head()"
   ]
  },
  {
   "cell_type": "code",
   "execution_count": 14,
   "metadata": {},
   "outputs": [
    {
     "output_type": "execute_result",
     "data": {
      "text/plain": "<bound method IndexOpsMixin.value_counts of 0                                              [Focused]\n1      [Uplifted, Relaxed, Happy, Euphoric, Dry Mouth...\n2      [Energetic, Uplifted, Happy, Creative, Focused...\n3      [Happy, Uplifted, Euphoric, Energetic, Creativ...\n4      [Uplifted, Happy, Relaxed, Sleepy, Euphoric, D...\n                             ...                        \n937    [Happy, Uplifted, Euphoric, Relaxed, Energetic...\n938    [Energetic, Focused, Creative, Uplifted, Eupho...\n939     [Focused, Happy, Energetic, Talkative, Uplifted]\n940       [Happy, Horny, Talkative, Uplifted, Energetic]\n941    [Happy, Relaxed, Focused, Euphoric, Talkative,...\nName: effects, Length: 942, dtype: object>"
     },
     "metadata": {},
     "execution_count": 14
    }
   ],
   "source": [
    "final['effects'].value_counts"
   ]
  },
  {
   "cell_type": "code",
   "execution_count": 15,
   "metadata": {
    "tags": []
   },
   "outputs": [
    {
     "output_type": "stream",
     "name": "stdout",
     "text": "Uplifted\nRelaxed\nHappy\nEuphoric\nDry Mouth\nParanoid\n"
    }
   ],
   "source": [
    "for effect in final['effects'][1]:\n",
    "    print(effect)"
   ]
  },
  {
   "cell_type": "code",
   "execution_count": 16,
   "metadata": {
    "tags": []
   },
   "outputs": [
    {
     "output_type": "stream",
     "name": "stdout",
     "text": "Total Effects:  6256\n-----------------------------\nTotal Ailments:  3757\n-----------------------------\nTotal Flavors:  1979\n-----------------------------\n"
    }
   ],
   "source": [
    "effects = []\n",
    "\n",
    "for row in list(range(len(final['effects']))):\n",
    "    for effect in final['effects'][row]:\n",
    "        effects.append(effect)\n",
    "print('Total Effects: ', len(effects))\n",
    "print('-----------------------------')\n",
    "\n",
    "ailments = []\n",
    "\n",
    "for row in list(range(len(final['ailment']))):\n",
    "    for ailment in final['ailment'][row]:\n",
    "        ailments.append(ailment)\n",
    "print('Total Ailments: ', len(ailments))\n",
    "print('-----------------------------')\n",
    "\n",
    "flavors = []\n",
    "\n",
    "for row in list(range(len(final['flavor']))):\n",
    "    for flavor in final['flavor'][row]:\n",
    "        flavors.append(flavor)\n",
    "print('Total Flavors: ', len(flavors))\n",
    "print('-----------------------------')"
   ]
  },
  {
   "cell_type": "code",
   "execution_count": 17,
   "metadata": {
    "tags": []
   },
   "outputs": [
    {
     "output_type": "stream",
     "name": "stdout",
     "text": "['Sleepy', 'Tingly', 'Relaxed', 'Talkative', 'Happy', 'Paranoid', 'Creative', 'Focused', 'Dry Mouth', 'Uplifted', 'Anxious', 'Euphoric', 'Horny', 'Hungry', 'Energetic']\n----------------------------------------------\n['Stress', 'Insomnia', 'Seizures', 'Nausea', 'Pain', 'Muscle Spasms', 'Depression', 'Inflammation', 'Lack of Appetite']\n----------------------------------------------\n['Berry', 'Apple', 'Honey', 'Mango', 'Earthy', 'Mint', 'Blueberry', 'Ammonia', 'Coffee', 'Vanilla', 'Rose', 'Pine', 'Citrus', 'Sweet', 'Pineapple', 'Skunk', 'Orange', 'Strawberry', 'Lemon', 'Grape', 'Lime', 'Pepper', 'Lavender']\n----------------------------------------------\n"
    }
   ],
   "source": [
    "effects = list(set(effects))\n",
    "ailments = list(set(ailments))\n",
    "flavors = list(set(flavors))\n",
    "\n",
    "print(effects)\n",
    "print('----------------------------------------------')\n",
    "print(ailments)\n",
    "print('----------------------------------------------')\n",
    "print(flavors)\n",
    "print('----------------------------------------------')"
   ]
  },
  {
   "cell_type": "code",
   "execution_count": 18,
   "metadata": {},
   "outputs": [],
   "source": [
    "anxious = []\n",
    "tingly = []\n",
    "paranoid = []\n",
    "horny = []\n",
    "happy = []\n",
    "energetic = []\n",
    "talkative = []\n",
    "relaxed = []\n",
    "dry_mouth = []\n",
    "hungry = []\n",
    "euphoric = []\n",
    "sleepy = []\n",
    "uplifted = []\n",
    "creative = []\n",
    "focused = []\n",
    "\n",
    "for i in list(range(len(final))):\n",
    "    if 'Anxious' in final['effects'][i]:\n",
    "        anxious.append(final['name'][i])\n",
    "for i in list(range(len(final))):\n",
    "    if 'Tingly' in final['effects'][i]:\n",
    "        tingly.append(final['name'][i])\n",
    "for i in list(range(len(final))):\n",
    "    if 'Paranoid' in final['effects'][i]:\n",
    "        paranoid.append(final['name'][i])\n",
    "for i in list(range(len(final))):\n",
    "    if 'Horny' in final['effects'][i]:\n",
    "        horny.append(final['name'][i])\n",
    "for i in list(range(len(final))):\n",
    "    if 'Happy' in final['effects'][i]:\n",
    "        happy.append(final['name'][i])\n",
    "for i in list(range(len(final))):\n",
    "    if 'Energetic' in final['effects'][i]:\n",
    "        energetic.append(final['name'][i])\n",
    "for i in list(range(len(final))):\n",
    "    if 'Talkative' in final['effects'][i]:\n",
    "        talkative.append(final['name'][i])\n",
    "for i in list(range(len(final))):\n",
    "    if 'Relaxed' in final['effects'][i]:\n",
    "        relaxed.append(final['name'][i])\n",
    "for i in list(range(len(final))):\n",
    "    if 'Dry Mouth' in final['effects'][i]:\n",
    "        dry_mouth.append(final['name'][i])\n",
    "for i in list(range(len(final))):\n",
    "    if 'Hungry' in final['effects'][i]:\n",
    "        hungry.append(final['name'][i])\n",
    "for i in list(range(len(final))):\n",
    "    if 'Euphoric' in final['effects'][i]:\n",
    "        euphoric.append(final['name'][i])\n",
    "for i in list(range(len(final))):\n",
    "    if 'Sleepy' in final['effects'][i]:\n",
    "        sleepy.append(final['name'][i])\n",
    "for i in list(range(len(final))):\n",
    "    if 'Uplifted' in final['effects'][i]:\n",
    "        uplifted.append(final['name'][i])\n",
    "for i in list(range(len(final))):\n",
    "    if 'Creative' in final['effects'][i]:\n",
    "        creative.append(final['name'][i])\n",
    "for i in list(range(len(final))):\n",
    "    if 'Focused' in final['effects'][i]:\n",
    "        focused.append(final['name'][i])"
   ]
  },
  {
   "cell_type": "code",
   "execution_count": 19,
   "metadata": {},
   "outputs": [],
   "source": [
    "nausea = []\n",
    "depression = []\n",
    "lack_of_appetite = []\n",
    "inflammation = []\n",
    "stress = []\n",
    "insomnia = []\n",
    "seizures = []\n",
    "muscle_spasms = []\n",
    "pain = []\n",
    "\n",
    "for i in list(range(len(final))):\n",
    "    if 'Nausea' in final['ailment'][i]:\n",
    "        nausea.append(final['name'][i])\n",
    "for i in list(range(len(final))):\n",
    "    if 'Depression' in final['ailment'][i]:\n",
    "        depression.append(final['name'][i])\n",
    "for i in list(range(len(final))):\n",
    "    if 'Lack of Appetite' in final['ailment'][i]:\n",
    "        lack_of_appetite.append(final['name'][i])\n",
    "for i in list(range(len(final))):\n",
    "    if 'Inflammation' in final['ailment'][i]:\n",
    "        inflammation.append(final['name'][i])\n",
    "for i in list(range(len(final))):\n",
    "    if 'Stress' in final['ailment'][i]:\n",
    "        stress.append(final['name'][i])\n",
    "for i in list(range(len(final))):\n",
    "    if 'Insomnia' in final['ailment'][i]:\n",
    "        insomnia.append(final['name'][i])\n",
    "for i in list(range(len(final))):\n",
    "    if 'Seizures' in final['ailment'][i]:\n",
    "        seizures.append(final['name'][i])\n",
    "for i in list(range(len(final))):\n",
    "    if 'Muscle Spasms' in final['ailment'][i]:\n",
    "        muscle_spasms.append(final['name'][i])\n",
    "for i in list(range(len(final))):\n",
    "    if 'Pain' in final['ailment'][i]:\n",
    "        pain.append(final['name'][i])"
   ]
  },
  {
   "cell_type": "code",
   "execution_count": 20,
   "metadata": {},
   "outputs": [],
   "source": [
    "berry = []\n",
    "apple = []\n",
    "honey = []\n",
    "mango = []\n",
    "earthy = []\n",
    "mint = []\n",
    "blueberry = []\n",
    "ammonia = []\n",
    "coffee = []\n",
    "vanilla = []\n",
    "rose = []\n",
    "pine = []\n",
    "citrus = []\n",
    "sweet = []\n",
    "pineapple = []\n",
    "skunk = []\n",
    "orange = []\n",
    "strawberry = []\n",
    "lemon = []\n",
    "grape = []\n",
    "lime = []\n",
    "pepper = []\n",
    "lavender = []\n",
    "\n",
    "for i in list(range(len(final))):\n",
    "    if 'Coffee' in final['flavor'][i]:\n",
    "        coffee.append(final['name'][i])\n",
    "for i in list(range(len(final))):\n",
    "    if 'Pepper' in final['flavor'][i]:\n",
    "        pepper.append(final['name'][i])\n",
    "for i in list(range(len(final))):\n",
    "    if 'Lavender' in final['flavor'][i]:\n",
    "        lavender.append(final['name'][i])\n",
    "for i in list(range(len(final))):\n",
    "    if 'Mango' in final['flavor'][i]:\n",
    "        mango.append(final['name'][i])\n",
    "for i in list(range(len(final))):\n",
    "    if 'Earthy' in final['flavor'][i]:\n",
    "        earthy.append(final['name'][i])\n",
    "for i in list(range(len(final))):\n",
    "    if 'Citrus' in final['flavor'][i]:\n",
    "        citrus.append(final['name'][i])\n",
    "for i in list(range(len(final))):\n",
    "    if 'Lemon' in final['flavor'][i]:\n",
    "        lemon.append(final['name'][i])\n",
    "for i in list(range(len(final))):\n",
    "    if 'Strawberry' in final['flavor'][i]:\n",
    "        strawberry.append(final['name'][i])\n",
    "for i in list(range(len(final))):\n",
    "    if 'Pine' in final['flavor'][i]:\n",
    "        pine.append(final['name'][i])\n",
    "for i in list(range(len(final))):\n",
    "    if 'Vanilla' in final['flavor'][i]:\n",
    "        vanilla.append(final['name'][i])\n",
    "for i in list(range(len(final))):\n",
    "    if 'Honey' in final['flavor'][i]:\n",
    "        honey.append(final['name'][i])\n",
    "for i in list(range(len(final))):\n",
    "    if 'Pineapple' in final['flavor'][i]:\n",
    "        pineapple.append(final['name'][i])\n",
    "for i in list(range(len(final))):\n",
    "    if 'Blueberry' in final['flavor'][i]:\n",
    "        blueberry.append(final['name'][i])\n",
    "for i in list(range(len(final))):\n",
    "    if 'Orange' in final['flavor'][i]:\n",
    "        orange.append(final['name'][i])\n",
    "for i in list(range(len(final))):\n",
    "    if 'Skunk' in final['flavor'][i]:\n",
    "        skunk.append(final['name'][i])\n",
    "for i in list(range(len(final))):\n",
    "    if 'Grape' in final['flavor'][i]:\n",
    "        grape.append(final['name'][i])\n",
    "for i in list(range(len(final))):\n",
    "    if 'Berry' in final['flavor'][i]:\n",
    "        berry.append(final['name'][i])\n",
    "for i in list(range(len(final))):\n",
    "    if 'Lime' in final['flavor'][i]:\n",
    "        lime.append(final['name'][i])\n",
    "for i in list(range(len(final))):\n",
    "    if 'Rose' in final['flavor'][i]:\n",
    "        rose.append(final['name'][i])\n",
    "for i in list(range(len(final))):\n",
    "    if 'Sweet' in final['flavor'][i]:\n",
    "        sweet.append(final['name'][i])\n",
    "for i in list(range(len(final))):\n",
    "    if 'Apple' in final['flavor'][i]:\n",
    "        apple.append(final['name'][i])\n",
    "for i in list(range(len(final))):\n",
    "    if 'Mint' in final['flavor'][i]:\n",
    "        mint.append(final['name'][i])\n",
    "for i in list(range(len(final))):\n",
    "    if 'Ammonia' in final['flavor'][i]:\n",
    "        ammonia.append(final['name'][i])"
   ]
  },
  {
   "cell_type": "code",
   "execution_count": 23,
   "metadata": {},
   "outputs": [],
   "source": [
    "strain_dict = {\n",
    "    \"Effects\": \n",
    "        {\n",
    "            \"Anxious\": anxious,\n",
    "            \"Tingly\": tingly,\n",
    "            \"Paranoid\": paranoid,\n",
    "            \"Horny\": horny,\n",
    "            \"Happy\": happy,\n",
    "            \"Energetic\": energetic,\n",
    "            \"Talkative\": talkative,\n",
    "            \"Relaxed\": relaxed,\n",
    "            \"Dry Mouth\": dry_mouth,\n",
    "            \"Hungry\": hungry,\n",
    "            \"Euphoric\": euphoric,\n",
    "            \"Sleepy\": sleepy,\n",
    "            \"Uplifted\": uplifted,\n",
    "            \"Creative\": creative,\n",
    "            \"Focused\": focused\n",
    "         },\n",
    "    \"Ailments\":\n",
    "        {\n",
    "            \"Nausea\": nausea,\n",
    "            \"Depression\": depression,\n",
    "            \"Lack of Appetite\": lack_of_appetite,\n",
    "            \"Inflammation\": inflammation,\n",
    "            \"Stress\": stress,\n",
    "            \"Insomnia\": insomnia,\n",
    "            \"Seizures\": seizures,\n",
    "            \"Muscle Spasms\": muscle_spasms,\n",
    "            \"Pain\": pain\n",
    "        },\n",
    "    \"Flavors\":\n",
    "        {\n",
    "            \"Coffee\": coffee,\n",
    "            \"Pepper\": pepper,\n",
    "            \"Lavender\": lavender,\n",
    "            \"Mango\": mango,\n",
    "            \"Earthy\": earthy,\n",
    "            \"Citrus\": citrus,\n",
    "            \"Lemon\": lemon,\n",
    "            \"Strawberry\": strawberry,\n",
    "            \"Pine\": pine,\n",
    "            \"Vanilla\": vanilla,\n",
    "            \"Honey\": honey,\n",
    "            \"Pineapple\": pineapple,\n",
    "            \"Blueberry\": blueberry,\n",
    "            \"Orange\": orange,\n",
    "            \"Skunk\": skunk,\n",
    "            \"Grape\": grape,\n",
    "            \"Berry\": berry,\n",
    "            \"Lime\": lime,\n",
    "            \"Rose\": rose,\n",
    "            \"Sweet\": sweet,\n",
    "            \"Apple\": apple,\n",
    "            \"Mint\": mint,\n",
    "            \"Ammonia\": ammonia\n",
    "        }\n",
    "}"
   ]
  }
 ],
 "metadata": {
  "kernelspec": {
   "display_name": "Python 3",
   "language": "python",
   "name": "python3"
  },
  "language_info": {
   "codemirror_mode": {
    "name": "ipython",
    "version": 3
   },
   "file_extension": ".py",
   "mimetype": "text/x-python",
   "name": "python",
   "nbconvert_exporter": "python",
   "pygments_lexer": "ipython3",
   "version": "3.7.7-final"
  }
 },
 "nbformat": 4,
 "nbformat_minor": 4
}